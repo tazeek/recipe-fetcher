{
 "cells": [
  {
   "cell_type": "code",
   "execution_count": null,
   "id": "05f9c100",
   "metadata": {},
   "outputs": [],
   "source": [
    "import requests\n",
    "from bs4 import BeautifulSoup\n",
    "\n",
    "import random\n",
    "import time\n"
   ]
  },
  {
   "cell_type": "code",
   "execution_count": null,
   "id": "958a7581",
   "metadata": {},
   "outputs": [],
   "source": [
    "headers = {\n",
    "    \"User-Agent\": \"Mozilla/5.0 (Windows NT 10.0; Win64; x64)\"\n",
    "}\n",
    "\n"
   ]
  },
  {
   "cell_type": "code",
   "execution_count": null,
   "id": "4ac0267e",
   "metadata": {},
   "outputs": [
    {
     "name": "stdout",
     "output_type": "stream",
     "text": [
      "1\n",
      "https://www.walderwellness.com/recipes/?fwp_paged=1\n"
     ]
    }
   ],
   "source": [
    "page_range = range(1,22)\n",
    "webpage = \"https://www.walderwellness.com/recipes/?fwp_paged={}\"\n",
    "\n",
    "for num in page_range:\n",
    "\n",
    "    response = requests.get(webpage.format(num), headers=headers)\n",
    "    soup = BeautifulSoup(response.text, \"html.parser\")\n",
    "\n",
    "\n",
    "    recipes_tags = soup.select(\".archive-post.facet-post\")\n",
    "\n",
    "    for tag in recipes_tags:\n",
    "\n",
    "        # Get the href\n",
    "        href = tag.find(\"a\")\n",
    "        print(href.get(\"href\"))\n",
    "\n",
    "        # Get the title\n",
    "        title = tag.select(\".title\")\n",
    "        print(title[0].text)\n",
    "        \n",
    "        print(\"\\n\")\n",
    "    \n",
    "    print(\"\\n\\n\")"
   ]
  },
  {
   "cell_type": "code",
   "execution_count": null,
   "id": "b19b13f3",
   "metadata": {},
   "outputs": [
    {
     "name": "stdout",
     "output_type": "stream",
     "text": [
      "[]\n"
     ]
    }
   ],
   "source": []
  }
 ],
 "metadata": {
  "kernelspec": {
   "display_name": "action-lab_projects",
   "language": "python",
   "name": "python3"
  },
  "language_info": {
   "codemirror_mode": {
    "name": "ipython",
    "version": 3
   },
   "file_extension": ".py",
   "mimetype": "text/x-python",
   "name": "python",
   "nbconvert_exporter": "python",
   "pygments_lexer": "ipython3",
   "version": "3.9.17"
  }
 },
 "nbformat": 4,
 "nbformat_minor": 5
}
