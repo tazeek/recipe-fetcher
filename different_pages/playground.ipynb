{
 "cells": [
  {
   "cell_type": "code",
   "execution_count": null,
   "id": "05f9c100",
   "metadata": {},
   "outputs": [],
   "source": [
    "import requests\n",
    "from bs4 import BeautifulSoup\n",
    "\n",
    "import random\n",
    "import time\n"
   ]
  },
  {
   "cell_type": "code",
   "execution_count": null,
   "id": "958a7581",
   "metadata": {},
   "outputs": [],
   "source": [
    "USER_AGENTS = [\n",
    "    \"Mozilla/5.0 (Windows NT 10.0; Win64; x64) AppleWebKit/537.36 (KHTML, like Gecko) Chrome/122.0.0.0 Safari/537.36\",\n",
    "    \"Mozilla/5.0 (Macintosh; Intel Mac OS X 10_15_7) AppleWebKit/605.1.15 (KHTML, like Gecko) Version/17.3 Safari/605.1.15\",\n",
    "    \"Mozilla/5.0 (X11; Linux x86_64) AppleWebKit/537.36 (KHTML, like Gecko) Chrome/121.0.0.0 Safari/537.36\",\n",
    "]\n",
    "\n"
   ]
  },
  {
   "cell_type": "code",
   "execution_count": null,
   "id": "4ac0267e",
   "metadata": {},
   "outputs": [],
   "source": [
    "page_range = range(1,22)\n",
    "webpage = \"https://www.walderwellness.com/recipes/?fwp_paged={}\"\n",
    "\n",
    "recipe_set = set()\n",
    "\n",
    "for num in page_range:\n",
    "\n",
    "    headers = {\"User-Agent\": random.choice(USER_AGENTS)}\n",
    "\n",
    "    response = requests.get(webpage.format(num), headers=headers)\n",
    "    soup = BeautifulSoup(response.text, \"html.parser\")\n",
    "\n",
    "    recipes_tags = soup.select(\".archive-post.facet-post\")\n",
    "\n",
    "    for tag in recipes_tags:\n",
    "\n",
    "        # Get the href\n",
    "        a_tag = tag.find(\"a\")\n",
    "\n",
    "        # Get the title\n",
    "        title = tag.select(\".title\")\n",
    "\n",
    "        recipe_set.add((title[0].text, a_tag.get(\"href\")))\n",
    "    \n",
    "    # Random delay after request\n",
    "    print(f\"Scraping done for {num}. Sleeping.....\")\n",
    "    time.sleep(random.uniform(2, 6))\n",
    "    print(\"\\n\\n\")"
   ]
  },
  {
   "cell_type": "code",
   "execution_count": null,
   "id": "a6e70d74",
   "metadata": {},
   "outputs": [],
   "source": [
    "# Re-order the set based on alphabetical order\n",
    "recipe_set = sorted(recipe_set, key=lambda x: x[0])"
   ]
  }
 ],
 "metadata": {
  "kernelspec": {
   "display_name": "action-lab_projects",
   "language": "python",
   "name": "python3"
  },
  "language_info": {
   "codemirror_mode": {
    "name": "ipython",
    "version": 3
   },
   "file_extension": ".py",
   "mimetype": "text/x-python",
   "name": "python",
   "nbconvert_exporter": "python",
   "pygments_lexer": "ipython3",
   "version": "3.9.17"
  }
 },
 "nbformat": 4,
 "nbformat_minor": 5
}
